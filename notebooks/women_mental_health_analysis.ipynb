{
 "cells": [
  {
   "cell_type": "markdown",
   "id": "fcfdb78f",
   "metadata": {},
   "source": [
    "# Women's Mental Health Sentiment Analysis\n",
    "\n",
    "This notebook analyzes social media posts related to women's mental health using sentiment analysis and emotion classification. We'll use:\n",
    "- TextBlob for sentiment analysis\n",
    "- Pandas for data handling\n",
    "- Matplotlib for visualization"
   ]
  },
  {
   "cell_type": "markdown",
   "id": "43ef4669",
   "metadata": {},
   "source": [
    "## Import Required Libraries"
   ]
  },
  {
   "cell_type": "code",
   "execution_count": null,
   "id": "605ec720",
   "metadata": {},
   "outputs": [],
   "source": [
    "import pandas as pd\n",
    "from textblob import TextBlob\n",
    "import matplotlib.pyplot as plt"
   ]
  },
  {
   "cell_type": "markdown",
   "id": "9c8d49bd",
   "metadata": {},
   "source": [
    "## Load and Preview Data"
   ]
  },
  {
   "cell_type": "code",
   "execution_count": null,
   "id": "1815a2ac",
   "metadata": {},
   "outputs": [],
   "source": [
    "# Load sample data\n",
    "df = pd.read_csv('data/sample_women_mental_health_tweets.csv')\n",
    "\n",
    "# Display first few tweets\n",
    "print(\"Sample Tweets:\")\n",
    "print(\"-------------\")\n",
    "print(df.head())"
   ]
  },
  {
   "cell_type": "markdown",
   "id": "aa04aeab",
   "metadata": {},
   "source": [
    "## Define Emotion Classification Functions"
   ]
  },
  {
   "cell_type": "code",
   "execution_count": null,
   "id": "30fc9899",
   "metadata": {},
   "outputs": [],
   "source": [
    "def get_sentiment(text):\n",
    "    \"\"\"Calculate sentiment score using TextBlob\"\"\"\n",
    "    blob = TextBlob(text)\n",
    "    return blob.sentiment.polarity\n",
    "\n",
    "def get_emotion_category(text, score):\n",
    "    \"\"\"Categorize text into one of the five universal emotions\"\"\"\n",
    "    # Keywords for each emotion\n",
    "    emotion_keywords = {\n",
    "        'Joy': ['grateful', 'hopeful', 'celebrating', 'proud', 'peace', 'happy', 'positive', 'hope', 'glad'],\n",
    "        'Sadness': ['depression', 'isolating', 'struggling', 'overwhelmed', 'sad', 'lonely', 'crushed'],\n",
    "        'Fear': ['anxiety', 'stress', 'worried', 'panic', 'fear', 'scared', 'nervous'],\n",
    "        'Anger': ['toxic', 'pressure', 'triggered', 'frustrated', 'angry', 'mad'],\n",
    "        'Disgust': ['hate', 'sick', 'disgust', 'awful', 'terrible']\n",
    "    }\n",
    "    \n",
    "    text = text.lower()\n",
    "    emotion_counts = {emotion: 0 for emotion in emotion_keywords}\n",
    "    \n",
    "    # Count keyword matches for each emotion\n",
    "    for emotion, keywords in emotion_keywords.items():\n",
    "        for keyword in keywords:\n",
    "            if keyword in text:\n",
    "                emotion_counts[emotion] += 1\n",
    "    \n",
    "    # If we found emotion keywords, use the most frequent one\n",
    "    max_count = max(emotion_counts.values())\n",
    "    if max_count > 0:\n",
    "        # If there's a tie, use sentiment score to break it\n",
    "        max_emotions = [e for e, c in emotion_counts.items() if c == max_count]\n",
    "        if len(max_emotions) == 1:\n",
    "            return max_emotions[0]\n",
    "        else:\n",
    "            # Use sentiment score to break ties\n",
    "            if score > 0.2:\n",
    "                return 'Joy' if 'Joy' in max_emotions else max_emotions[0]\n",
    "            elif score < -0.2:\n",
    "                return next((e for e in max_emotions if e != 'Joy'), max_emotions[0])\n",
    "    \n",
    "    # If no keywords found, use sentiment score\n",
    "    if score > 0.2:\n",
    "        return 'Joy'\n",
    "    elif score < -0.2:\n",
    "        return 'Sadness'\n",
    "    else:\n",
    "        return 'Neutral'"
   ]
  },
  {
   "cell_type": "markdown",
   "id": "8c6f06cc",
   "metadata": {},
   "source": [
    "## Analyze Sentiments and Emotions"
   ]
  },
  {
   "cell_type": "code",
   "execution_count": null,
   "id": "88a3036d",
   "metadata": {},
   "outputs": [],
   "source": [
    "# Apply sentiment analysis\n",
    "df['sentiment_score'] = df['tweet'].apply(get_sentiment)\n",
    "df['emotion'] = df.apply(lambda row: get_emotion_category(row['tweet'], row['sentiment_score']), axis=1)\n",
    "\n",
    "# Display results\n",
    "print(\"=== Emotion Analysis Results ===\")\n",
    "print(\"\\nDetailed Analysis:\")\n",
    "print(df[['tweet', 'sentiment_score', 'emotion']])\n",
    "\n",
    "# Calculate summary statistics\n",
    "print(\"\\n=== Summary Statistics ===\")\n",
    "print(f\"\\nTotal tweets analyzed: {len(df)}\")\n",
    "emotion_counts = df['emotion'].value_counts()\n",
    "print(\"\\nEmotion Distribution:\")\n",
    "for emotion, count in emotion_counts.items():\n",
    "    percentage = (count / len(df)) * 100\n",
    "    print(f\"{emotion}: {count} tweets ({percentage:.1f}%)\")"
   ]
  },
  {
   "cell_type": "markdown",
   "id": "65ce2090",
   "metadata": {},
   "source": [
    "## Visualize Emotion Distribution"
   ]
  },
  {
   "cell_type": "code",
   "execution_count": null,
   "id": "babb55ed",
   "metadata": {},
   "outputs": [],
   "source": [
    "# Create a pie chart\n",
    "plt.figure(figsize=(10, 8))\n",
    "colors = ['#FFD700', '#4169E1', '#DC143C', '#32CD32', '#800080', '#808080']  # Colors for each emotion\n",
    "plt.pie(emotion_counts.values, labels=emotion_counts.index, autopct='%1.1f%%', \n",
    "        colors=colors, startangle=90)\n",
    "\n",
    "plt.title('Distribution of Emotions in Women\\'s Mental Health Tweets', pad=20)\n",
    "\n",
    "# Add a legend\n",
    "plt.legend(emotion_counts.index, title=\"Emotions\", \n",
    "          loc=\"center left\", bbox_to_anchor=(1, 0, 0.5, 1))\n",
    "\n",
    "# Ensure the pie chart is circular\n",
    "plt.axis('equal')\n",
    "plt.show()"
   ]
  },
  {
   "cell_type": "markdown",
   "id": "d922e58c",
   "metadata": {},
   "source": [
    "## Display Representative Tweets"
   ]
  },
  {
   "cell_type": "code",
   "execution_count": null,
   "id": "9ebb6137",
   "metadata": {},
   "outputs": [],
   "source": [
    "print(\"=== Most Representative Tweets by Emotion ===\")\n",
    "for emotion in sorted(df['emotion'].unique()):\n",
    "    if emotion != 'Neutral':\n",
    "        emotion_tweets = df[df['emotion'] == emotion]\n",
    "        if not emotion_tweets.empty:\n",
    "            max_abs_score_idx = emotion_tweets['sentiment_score'].abs().idxmax()\n",
    "            representative_tweet = df.loc[max_abs_score_idx]\n",
    "            print(f\"\\n{emotion}:\")\n",
    "            print(f\"Tweet: {representative_tweet['tweet']}\")"
   ]
  }
 ],
 "metadata": {
  "language_info": {
   "name": "python"
  }
 },
 "nbformat": 4,
 "nbformat_minor": 5
}
